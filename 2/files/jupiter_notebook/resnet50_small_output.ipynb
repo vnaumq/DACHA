{
 "cells": [
  {
   "cell_type": "markdown",
   "metadata": {},
   "source": [
    "Импорт необходимых библиотек"
   ]
  },
  {
   "cell_type": "code",
   "execution_count": null,
   "metadata": {
    "vscode": {
     "languageId": "plaintext"
    }
   },
   "outputs": [],
   "source": [
    "import numpy as np\n",
    "import os\n",
    "import tensorflow as tf\n",
    "import matplotlib.pyplot as plt\n",
    "from tensorflow import keras\n",
    "from tensorflow.keras.applications import ResNet50\n",
    "from tensorflow.keras.models import Sequential\n",
    "from tensorflow.keras.layers import Dense, GlobalAveragePooling2D, BatchNormalization\n",
    "from tensorflow.keras.datasets import fashion_mnist\n",
    "from tensorflow.keras.utils import to_categorical\n",
    "from tensorflow.keras.callbacks import EarlyStopping"
   ]
  },
  {
   "cell_type": "markdown",
   "metadata": {},
   "source": [
    "- `os`: предоставляет функции для взаимодействия с операционной системой (пути, файлы)\n",
    "- `cv2`: OpenCV, используется для обработки изображений (чтение, изменение размера и т.д.)\n",
    "- `matplotlib.pyplot` (plt): инструмент для построения графиков и отображения изображений\n",
    "- `numpy` (np): эффективная работа с многомерными массивами и числовыми вычислениями\n",
    "- `tensorflow` (tf): фреймворк для построения и обучения моделей машинного обучения\n",
    "- `keras`: модуль TensorFlow для упрощенного создания и управления нейронными сетями\n",
    "- `fashion_mnist`: встроенный набор данных с изображениями одежды (60,000 + 10,000 примеров)\n",
    "- Импорт из `tensorflow.keras.models`:\n",
    "  - `Sequential`: класс для последовательного добавления слоев в модель\n",
    "  - `load_model`: функция для загрузки сохраненных моделей\n",
    "- Импорт из `tensorflow.keras.layers`:\n",
    "  - `Dense`: полносвязный слой\n",
    "  - `BatchNormalization`: слой нормализации входных данных\n",
    "  - `GlobalAveragePooling2D`: слой субдискретизации для уменьшения размерности\n",
    "- Импорт из `tensorflow.keras.utils`:\n",
    "  - `to_categorical`: метод для преобразования каждого значения в вектор\n",
    "- Импорт из `tensorflow.keras.callbacks`:\n",
    "  - `EarlyStopping`: необходимо для установки критериев остановки обучения в случае непредвиденной ситуации"
   ]
  },
  {
   "cell_type": "markdown",
   "metadata": {},
   "source": [
    "Загрузка и подготовка данных"
   ]
  },
  {
   "cell_type": "code",
   "execution_count": null,
   "metadata": {
    "vscode": {
     "languageId": "plaintext"
    }
   },
   "outputs": [],
   "source": [
    "# Загрузка данных Fashion MNIST\n",
    "(x_train, y_train), (x_test, y_test) = fashion_mnist.load_data()\n",
    "\n",
    "# Список классов (объединены некоторые классы для упрощения)\n",
    "class_names = ['T-shirt/top', 'Trouser', 'Pullover', 'Dress', 'Shirt/Coat', 'Bag', 'Ankle boot/Sandal/Sneaker']\n",
    "\n",
    "# Нормализация изображений (приведение значений пикселей к диапазону [0, 1])\n",
    "x_train = x_train / 255.0\n",
    "x_test = x_test / 255.0\n",
    "\n",
    "# Добавление 3 каналов (RGB) и изменение размера изображений до 32x32\n",
    "x_train = np.stack([x_train] * 3, axis=-1)  # (60000, 28, 28, 3)\n",
    "x_test = np.stack([x_test] * 3, axis=-1)  # (10000, 28, 28, 3)\n",
    "\n",
    "x_train = tf.image.resize(x_train, (32, 32))  # Resize до 32x32\n",
    "x_test = tf.image.resize(x_test, (32, 32))  # Resize до 32x32"
   ]
  },
  {
   "cell_type": "markdown",
   "metadata": {},
   "source": [
    "- `fashion_mnist.load_data()`: загружает набор данных Fashion MNIST\n",
    "  - Возвращает кортеж из двух пар:\n",
    "    - `(x_train, y_train)`: 60,000 обучающих изображений и меток\n",
    "    - `(x_test, y_test)`: 10,000 тестовых изображений и меток\n",
    "- `np.stack([x_train] * 3, axis=-1)`: Преобразует одноканальные изображения (градации серого) в трехканальные (RGB), дублируя один канал три раза.\n",
    "- `tf.image.resize(x_train, (32, 32))`: Изменяет размер изображений обучающей выборки до 32x32 пикселей. Это необходимо, так как предобученные модели, такие как ResNet, ожидают изображения определенного размера (обычно 32x32 или больше)."
   ]
  },
  {
   "cell_type": "markdown",
   "metadata": {},
   "source": [
    "Объединение классов\n",
    "\n",
    "    -раньше у нас было 10 классов в fashion_mnist теперь будет 7, для этого надо объединить некоторые классы в 1"
   ]
  },
  {
   "cell_type": "code",
   "execution_count": null,
   "metadata": {
    "vscode": {
     "languageId": "plaintext"
    }
   },
   "outputs": [],
   "source": [
    "# Объединение классов (переопределение меток)\n",
    "y_train_copy = y_train.copy()\n",
    "y_test_copy = y_test.copy()\n",
    "\n",
    "for i in range(len(y_train)):\n",
    "    if y_train_copy[i] == 5:\n",
    "        y_train_copy[i] = 6\n",
    "    elif y_train_copy[i] == 6:\n",
    "        y_train_copy[i] = 4\n",
    "    elif y_train_copy[i] == 7:\n",
    "        y_train_copy[i] = 6\n",
    "    elif y_train_copy[i] == 8:\n",
    "        y_train_copy[i] = 5\n",
    "    elif y_train_copy[i] == 9:\n",
    "        y_train_copy[i] = 6\n",
    "\n",
    "for i in range(len(y_test)):\n",
    "    if y_test_copy[i] == 5:\n",
    "        y_test_copy[i] = 6\n",
    "    elif y_test_copy[i] == 6:\n",
    "        y_test_copy[i] = 4\n",
    "    elif y_test_copy[i] == 7:\n",
    "        y_test_copy[i] = 6\n",
    "    elif y_test_copy[i] == 8:\n",
    "        y_test_copy[i] = 5\n",
    "    elif y_test_copy[i] == 9:\n",
    "        y_test_copy[i] = 6\n",
    "\n",
    "y_train = np.array(y_train_copy)\n",
    "y_test = np.array(y_test_copy)"
   ]
  },
  {
   "cell_type": "markdown",
   "metadata": {},
   "source": [
    "Преобразование меток в one-hot encoding\n",
    "\n",
    "- `keras.utils.to_categorical`: Преобразует метки классов (целые числа) в one-hot encoding (бинарный формат). Это необходимо для задач классификации, где модель должна предсказать вероятность принадлежности к каждому классу."
   ]
  },
  {
   "cell_type": "code",
   "execution_count": null,
   "metadata": {
    "vscode": {
     "languageId": "plaintext"
    }
   },
   "outputs": [],
   "source": [
    "y_train = keras.utils.to_categorical(y_train, 7)\n",
    "y_test = keras.utils.to_categorical(y_test, 7)"
   ]
  },
  {
   "cell_type": "markdown",
   "metadata": {},
   "source": [
    "Визуализация данных\n",
    "\n",
    "    - в этом блоке показываются примеры изображений"
   ]
  },
  {
   "cell_type": "code",
   "execution_count": null,
   "metadata": {
    "vscode": {
     "languageId": "plaintext"
    }
   },
   "outputs": [],
   "source": [
    "plt.figure(figsize=(10,10))\n",
    "for i in range(25):\n",
    "    plt.subplot(5,5,i+1)\n",
    "    plt.xticks([])\n",
    "    plt.yticks([])\n",
    "    plt.imshow(x_train[i])\n",
    "    plt.xlabel(class_names[np.argmax(y_train[i])])\n",
    "plt.show()"
   ]
  },
  {
   "cell_type": "markdown",
   "metadata": {},
   "source": [
    "Загрузка предобученной модели ResNet50 без верхнего слоя\n",
    "\n",
    "- `ResNet50`: Загружает предобученную модель ResNet50, которая была обучена на наборе данных ImageNet. ResNet50 — это глубокая сверточная нейронная сеть, состоящая из 50 слоев.\n",
    "- `base_model`: Загруженная модель ResNet50 без верхних слоев. Эта модель будет использоваться как основа для создания новой модели."
   ]
  },
  {
   "cell_type": "code",
   "execution_count": null,
   "metadata": {
    "vscode": {
     "languageId": "plaintext"
    }
   },
   "outputs": [],
   "source": [
    "base_model = ResNet50(weights='imagenet', include_top=False, input_shape=(32, 32, 3))\n",
    "base_model.trainable = False"
   ]
  },
  {
   "cell_type": "markdown",
   "metadata": {},
   "source": [
    "Создание новой модели на основе ResNet50\n",
    "\n",
    "- `Sequential`: линейный стек слоев, который позволяет последовательно добавлять слои для построения модели. Каждый слой имеет ровно один входной и один выходной тензор."
   ]
  },
  {
   "cell_type": "code",
   "execution_count": null,
   "metadata": {
    "vscode": {
     "languageId": "plaintext"
    }
   },
   "outputs": [],
   "source": [
    "model = Sequential([\n",
    "    base_model,\n",
    "    GlobalAveragePooling2D(),\n",
    "    BatchNormalization(),\n",
    "    Dense(512, activation='relu'),\n",
    "    BatchNormalization(),\n",
    "    Dense(96, activation='relu'),\n",
    "    Dense(7, activation='softmax')\n",
    "])"
   ]
  },
  {
   "cell_type": "markdown",
   "metadata": {},
   "source": [
    "Компиляция модели\n",
    "\n",
    "- `model.compile`: Компилирует модель, настраивая процесс обучения. Это включает в себя выбор оптимизатора, функции потерь и метрик для оценки производительности модели.\n",
    "    - `optimizer=tf.keras.optimizers.Adam()`: Оптимизатор, который будет использоваться для обновления весов модели во время обучения.\n",
    "- `loss='categorical_crossentropy'`: Функция потерь, которая будет использоваться для оценки ошибки модели во время обучения.\n",
    "- `metrics=['accuracy']`: Метрика, которая будет использоваться для оценки производительности модели.\n",
    "- `model.summary`: Выводит сводную информацию о структуре модели, включая количество параметров в каждом слое и общее количество обучаемых параметров."
   ]
  },
  {
   "cell_type": "code",
   "execution_count": null,
   "metadata": {
    "vscode": {
     "languageId": "plaintext"
    }
   },
   "outputs": [],
   "source": [
    "model.compile(optimizer=tf.keras.optimizers.Adam(),\n",
    "              loss='categorical_crossentropy',\n",
    "              metrics=['accuracy'])\n",
    "\n",
    "# Вывод структуры модели\n",
    "model.summary()"
   ]
  },
  {
   "cell_type": "markdown",
   "metadata": {},
   "source": [
    "Добавляем условия остановки обучения\n",
    "\n",
    "- `EarlyStopping`: Callback (обратный вызов), который останавливает обучение модели, если выбранная метрика перестает улучшаться. Это помогает предотвратить переобучение и сэкономить время и ресурсы."
   ]
  },
  {
   "cell_type": "code",
   "execution_count": null,
   "metadata": {
    "vscode": {
     "languageId": "plaintext"
    }
   },
   "outputs": [],
   "source": [
    "\n",
    "early_stopping = EarlyStopping(\n",
    "    monitor='val_loss',  # Метрика, которую будем отслеживать (потери на валидации)\n",
    "    patience=30,          # Количество эпох без улучшения, после которых обучение остановится\n",
    "    restore_best_weights=True  # Восстановление весов модели с лучшей эпохи\n",
    ")"
   ]
  },
  {
   "cell_type": "markdown",
   "metadata": {},
   "source": [
    "Обучение модели\n",
    "\n",
    "- `model.fit`: Обучает модель на предоставленных данных.\n",
    "- `model.save`: Сохраняет обученную модель в файл.\n",
    "- `keras.models.load_model`: Загружает ранее сохраненную модель из файла."
   ]
  },
  {
   "cell_type": "code",
   "execution_count": null,
   "metadata": {
    "vscode": {
     "languageId": "plaintext"
    }
   },
   "outputs": [],
   "source": [
    "# Обучение модели (если модель еще не обучена)\n",
    "if \"fashion_trained_model_3.keras\" not in os.listdir():\n",
    "    history = model.fit(x_train, y_train, batch_size=32, epochs=100, validation_data=(x_test, y_test), callbacks=[early_stopping])\n",
    "    model.save(\"fashion_trained_model_3.keras\")\n",
    "\n",
    "    # Построение графика точности на обучающей и тестовой выборках\n",
    "    plt.figure(figsize=(10, 5))\n",
    "    plt.plot(history.history['accuracy'], label='Training Accuracy')\n",
    "    plt.plot(history.history['val_accuracy'], label='Test Accuracy')\n",
    "    plt.title('Training and Test Accuracy')\n",
    "    plt.xlabel('Epoch')\n",
    "    plt.ylabel('Accuracy')\n",
    "    plt.legend()\n",
    "    plt.show()\n",
    "else:\n",
    "    # Если модель уже обучена, загружаем её\n",
    "    model = keras.models.load_model('fashion_trained_model_3.keras')"
   ]
  },
  {
   "cell_type": "markdown",
   "metadata": {},
   "source": [
    "Оценка модели\n",
    "\n",
    "- `model.evaluate`: Оценивает производительность модели на тестовых данных. Эта функция вычисляет значение функции потерь и метрик, указанных при компиляции модели, для предоставленных данных."
   ]
  },
  {
   "cell_type": "code",
   "execution_count": null,
   "metadata": {
    "vscode": {
     "languageId": "plaintext"
    }
   },
   "outputs": [],
   "source": [
    "# Оценка точности на тестовой выборке\n",
    "test_loss, test_acc = model.evaluate(x_test, y_test)\n",
    "print('Test accuracy:', test_acc)\n",
    "print('Test loss:', test_loss)"
   ]
  },
  {
   "cell_type": "markdown",
   "metadata": {},
   "source": [
    "Визуализация результатов\n",
    "\n",
    "- ` model.predict`: Выполняет предсказание классов для предоставленных данных. Эта функция возвращает вероятности принадлежности каждого примера к каждому классу."
   ]
  },
  {
   "cell_type": "code",
   "execution_count": null,
   "metadata": {
    "vscode": {
     "languageId": "plaintext"
    }
   },
   "outputs": [],
   "source": [
    "# Предсказание классов для тестовой выборки\n",
    "predictions = model.predict(x_test)\n",
    "\n",
    "# Визуализация примеров изображений с предсказанными и истинными классами\n",
    "plt.figure(figsize=(10,10))\n",
    "for i in range(9):\n",
    "    plt.subplot(3,3,i+1)\n",
    "    plt.xticks([])\n",
    "    plt.yticks([])\n",
    "    plt.imshow(x_test[i])\n",
    "    # Предсказание классов\n",
    "    predicted_class = np.argmax(predictions[i])\n",
    "    true_class = np.argmax(y_test[i])\n",
    "    plt.xlabel(f'Predicted: {class_names[predicted_class]}, Actual: {class_names[true_class]}')\n",
    "plt.show()"
   ]
  }
 ],
 "metadata": {
  "language_info": {
   "name": "python"
  }
 },
 "nbformat": 4,
 "nbformat_minor": 2
}
