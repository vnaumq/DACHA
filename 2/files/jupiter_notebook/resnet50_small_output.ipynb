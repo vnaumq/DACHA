{
 "cells": [
  {
   "cell_type": "markdown",
   "metadata": {},
   "source": [
    "Импорт необходимых библиотек"
   ]
  },
  {
   "cell_type": "code",
   "execution_count": null,
   "metadata": {
    "vscode": {
     "languageId": "plaintext"
    }
   },
   "outputs": [],
   "source": [
    "import numpy as np\n",
    "import os\n",
    "import tensorflow as tf\n",
    "import matplotlib.pyplot as plt\n",
    "from tensorflow import keras\n",
    "from tensorflow.keras.applications import ResNet50\n",
    "from tensorflow.keras.models import Sequential\n",
    "from tensorflow.keras.layers import Dense, GlobalAveragePooling2D, BatchNormalization\n",
    "from tensorflow.keras.datasets import fashion_mnist\n",
    "from tensorflow.keras.utils import to_categorical\n",
    "from tensorflow.keras.callbacks import EarlyStopping"
   ]
  },
  {
   "cell_type": "markdown",
   "metadata": {},
   "source": [
    "Загрузка и подготовка данных"
   ]
  },
  {
   "cell_type": "code",
   "execution_count": null,
   "metadata": {
    "vscode": {
     "languageId": "plaintext"
    }
   },
   "outputs": [],
   "source": [
    "# Загрузка данных Fashion MNIST\n",
    "(x_train, y_train), (x_test, y_test) = fashion_mnist.load_data()\n",
    "\n",
    "# Список классов (объединены некоторые классы для упрощения)\n",
    "class_names = ['T-shirt/top', 'Trouser', 'Pullover', 'Dress', 'Shirt/Coat', 'Bag', 'Ankle boot/Sandal/Sneaker']\n",
    "\n",
    "# Нормализация изображений (приведение значений пикселей к диапазону [0, 1])\n",
    "x_train = x_train / 255.0\n",
    "x_test = x_test / 255.0\n",
    "\n",
    "# Добавление 3 каналов (RGB) и изменение размера изображений до 32x32\n",
    "x_train = np.stack([x_train] * 3, axis=-1)  # (60000, 28, 28, 3)\n",
    "x_test = np.stack([x_test] * 3, axis=-1)  # (10000, 28, 28, 3)\n",
    "\n",
    "x_train = tf.image.resize(x_train, (32, 32))  # Resize до 32x32\n",
    "x_test = tf.image.resize(x_test, (32, 32))  # Resize до 32x32"
   ]
  },
  {
   "cell_type": "markdown",
   "metadata": {},
   "source": [
    "Объединение классов"
   ]
  },
  {
   "cell_type": "code",
   "execution_count": null,
   "metadata": {
    "vscode": {
     "languageId": "plaintext"
    }
   },
   "outputs": [],
   "source": [
    "# Объединение классов (переопределение меток)\n",
    "y_train_copy = y_train.copy()\n",
    "y_test_copy = y_test.copy()\n",
    "\n",
    "for i in range(len(y_train)):\n",
    "    if y_train_copy[i] == 5:\n",
    "        y_train_copy[i] = 6\n",
    "    elif y_train_copy[i] == 6:\n",
    "        y_train_copy[i] = 4\n",
    "    elif y_train_copy[i] == 7:\n",
    "        y_train_copy[i] = 6\n",
    "    elif y_train_copy[i] == 8:\n",
    "        y_train_copy[i] = 5\n",
    "    elif y_train_copy[i] == 9:\n",
    "        y_train_copy[i] = 6\n",
    "\n",
    "for i in range(len(y_test)):\n",
    "    if y_test_copy[i] == 5:\n",
    "        y_test_copy[i] = 6\n",
    "    elif y_test_copy[i] == 6:\n",
    "        y_test_copy[i] = 4\n",
    "    elif y_test_copy[i] == 7:\n",
    "        y_test_copy[i] = 6\n",
    "    elif y_test_copy[i] == 8:\n",
    "        y_test_copy[i] = 5\n",
    "    elif y_test_copy[i] == 9:\n",
    "        y_test_copy[i] = 6\n",
    "\n",
    "y_train = np.array(y_train_copy)\n",
    "y_test = np.array(y_test_copy)"
   ]
  },
  {
   "cell_type": "markdown",
   "metadata": {},
   "source": [
    "Преобразование меток в one-hot encoding"
   ]
  },
  {
   "cell_type": "code",
   "execution_count": null,
   "metadata": {
    "vscode": {
     "languageId": "plaintext"
    }
   },
   "outputs": [],
   "source": [
    "# Преобразование меток в one-hot encoding\n",
    "y_train = keras.utils.to_categorical(y_train, 7)\n",
    "y_test = keras.utils.to_categorical(y_test, 7)"
   ]
  },
  {
   "cell_type": "markdown",
   "metadata": {},
   "source": [
    "Визуализация данных"
   ]
  },
  {
   "cell_type": "code",
   "execution_count": null,
   "metadata": {
    "vscode": {
     "languageId": "plaintext"
    }
   },
   "outputs": [],
   "source": [
    "# Визуализация примеров изображений\n",
    "plt.figure(figsize=(10,10))\n",
    "for i in range(25):\n",
    "    plt.subplot(5,5,i+1)\n",
    "    plt.xticks([])\n",
    "    plt.yticks([])\n",
    "    plt.imshow(x_train[i])\n",
    "    plt.xlabel(class_names[np.argmax(y_train[i])])\n",
    "plt.show()"
   ]
  },
  {
   "cell_type": "markdown",
   "metadata": {},
   "source": [
    "Создание модели"
   ]
  },
  {
   "cell_type": "code",
   "execution_count": null,
   "metadata": {
    "vscode": {
     "languageId": "plaintext"
    }
   },
   "outputs": [],
   "source": [
    "# Загрузка предобученной модели ResNet50 без верхнего слоя\n",
    "base_model = ResNet50(weights='imagenet', include_top=False, input_shape=(32, 32, 3))\n",
    "base_model.trainable = False  # Замораживаем веса\n",
    "\n",
    "# Создание новой модели на основе ResNet50\n",
    "model = Sequential([\n",
    "    base_model,\n",
    "    GlobalAveragePooling2D(),\n",
    "    BatchNormalization(),\n",
    "    Dense(512, activation='relu'),\n",
    "    BatchNormalization(),\n",
    "    Dense(96, activation='relu'),\n",
    "    Dense(7, activation='softmax')\n",
    "])"
   ]
  },
  {
   "cell_type": "markdown",
   "metadata": {},
   "source": [
    "Компиляция модели"
   ]
  },
  {
   "cell_type": "code",
   "execution_count": null,
   "metadata": {
    "vscode": {
     "languageId": "plaintext"
    }
   },
   "outputs": [],
   "source": [
    "# Компиляция модели\n",
    "model.compile(optimizer=tf.keras.optimizers.Adam(),\n",
    "              loss='categorical_crossentropy',\n",
    "              metrics=['accuracy'])\n",
    "\n",
    "# Вывод структуры модели\n",
    "model.summary()"
   ]
  },
  {
   "cell_type": "markdown",
   "metadata": {},
   "source": [
    "Добавляем условия остановки обучения"
   ]
  },
  {
   "cell_type": "code",
   "execution_count": null,
   "metadata": {
    "vscode": {
     "languageId": "plaintext"
    }
   },
   "outputs": [],
   "source": [
    "# Создание callback EarlyStopping\n",
    "early_stopping = EarlyStopping(\n",
    "    monitor='val_loss',  # Метрика, которую будем отслеживать (потери на валидации)\n",
    "    patience=30,          # Количество эпох без улучшения, после которых обучение остановится\n",
    "    restore_best_weights=True  # Восстановление весов модели с лучшей эпохи\n",
    ")"
   ]
  },
  {
   "cell_type": "markdown",
   "metadata": {},
   "source": [
    "Обучение модели"
   ]
  },
  {
   "cell_type": "code",
   "execution_count": null,
   "metadata": {
    "vscode": {
     "languageId": "plaintext"
    }
   },
   "outputs": [],
   "source": [
    "# Обучение модели (если модель еще не обучена)\n",
    "if \"fashion_trained_model_3.keras\" not in os.listdir():\n",
    "    history = model.fit(x_train, y_train, batch_size=32, epochs=100, validation_data=(x_test, y_test), callbacks=[early_stopping])\n",
    "    model.save(\"fashion_trained_model_3.keras\")\n",
    "\n",
    "    # Построение графика точности на обучающей и тестовой выборках\n",
    "    plt.figure(figsize=(10, 5))\n",
    "    plt.plot(history.history['accuracy'], label='Training Accuracy')\n",
    "    plt.plot(history.history['val_accuracy'], label='Test Accuracy')\n",
    "    plt.title('Training and Test Accuracy')\n",
    "    plt.xlabel('Epoch')\n",
    "    plt.ylabel('Accuracy')\n",
    "    plt.legend()\n",
    "    plt.show()\n",
    "else:\n",
    "    # Если модель уже обучена, загружаем её\n",
    "    model = keras.models.load_model('fashion_trained_model_3.keras')"
   ]
  },
  {
   "cell_type": "markdown",
   "metadata": {},
   "source": [
    "Оценка модели"
   ]
  },
  {
   "cell_type": "code",
   "execution_count": null,
   "metadata": {
    "vscode": {
     "languageId": "plaintext"
    }
   },
   "outputs": [],
   "source": [
    "# Оценка точности на тестовой выборке\n",
    "test_loss, test_acc = model.evaluate(x_test, y_test)\n",
    "print('Test accuracy:', test_acc)\n",
    "print('Test loss:', test_loss)"
   ]
  },
  {
   "cell_type": "markdown",
   "metadata": {},
   "source": [
    "Визуализация результатов"
   ]
  },
  {
   "cell_type": "code",
   "execution_count": null,
   "metadata": {
    "vscode": {
     "languageId": "plaintext"
    }
   },
   "outputs": [],
   "source": [
    "# Предсказание классов для тестовой выборки\n",
    "predictions = model.predict(x_test)\n",
    "\n",
    "# Визуализация примеров изображений с предсказанными и истинными классами\n",
    "plt.figure(figsize=(10,10))\n",
    "for i in range(9):\n",
    "    plt.subplot(3,3,i+1)\n",
    "    plt.xticks([])\n",
    "    plt.yticks([])\n",
    "    plt.imshow(x_test[i])\n",
    "    # Предсказание классов\n",
    "    predicted_class = np.argmax(predictions[i])\n",
    "    true_class = np.argmax(y_test[i])\n",
    "    plt.xlabel(f'Predicted: {class_names[predicted_class]}, Actual: {class_names[true_class]}')\n",
    "plt.show()"
   ]
  }
 ],
 "metadata": {
  "language_info": {
   "name": "python"
  }
 },
 "nbformat": 4,
 "nbformat_minor": 2
}
