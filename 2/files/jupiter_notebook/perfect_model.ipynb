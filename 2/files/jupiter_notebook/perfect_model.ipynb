{
 "cells": [
  {
   "cell_type": "code",
   "execution_count": 1,
   "metadata": {},
   "outputs": [],
   "source": [
    "# Блок 1: Импорт базовых библиотек для работы с данными и визуализацией\n",
    "import numpy as np              # Библиотека для работы с массивами и математическими операциями\n",
    "import matplotlib.pyplot as plt # Библиотека для создания графиков и визуализации данных\n",
    "import os                       # Библиотека для работы с файловой системой"
   ]
  },
  {
   "cell_type": "markdown",
   "metadata": {},
   "source": [
    "### Блок 1: Импорт базовых библиотек\n",
    "- `numpy` (np): используется для эффективной работы с массивами и выполнения численных вычислений\n",
    "- `matplotlib.pyplot` (plt): позволяет создавать визуализации данных, такие как графики и изображения\n",
    "- `os`: предоставляет функции для взаимодействия с операционной системой, например, работы с файлами и путями"
   ]
  },
  {
   "cell_type": "code",
   "execution_count": null,
   "metadata": {},
   "outputs": [],
   "source": [
    "# Блок 2: Импорт библиотек TensorFlow и Keras\n",
    "import tensorflow as tf                                 # Основная библиотека машинного обучения\n",
    "from tensorflow import keras                            # Высокоуровневый API для построения нейронных сетей\n",
    "from tensorflow.keras.datasets import fashion_mnist     # Набор данных Fashion MNIST\n",
    "from tensorflow.keras.models import Sequential          # Модель последовательного типа\n",
    "from tensorflow.keras.layers import Dense, Flatten, Dropout, Conv2D, MaxPooling2D  # Слои нейронной сети"
   ]
  },
  {
   "cell_type": "markdown",
   "metadata": {},
   "source": [
    "### Блок 2: Импорт TensorFlow и компонентов Keras\n",
    "- `tensorflow` (tf): основная библиотека для машинного обучения и работы с тензорами\n",
    "- `keras`: высокоуровневый API TensorFlow для удобного создания и обучения нейронных сетей\n",
    "- `fashion_mnist`: встроенный набор данных с изображениями одежды (60,000 обучающих и 10,000 тестовых примеров)\n",
    "- `Sequential`: класс для создания моделей, где слои добавляются последовательно\n",
    "- Импорт слоев:\n",
    "  - `Dense`: полносвязный слой\n",
    "  - `Flatten`: преобразование многомерных данных в одномерный вектор\n",
    "  - `Dropout`: слой для предотвращения переобучения\n",
    "  - `Conv2D`: сверточный слой для обработки изображений\n",
    "  - `MaxPooling2D`: слой субдискретизации для уменьшения размерности"
   ]
  },
  {
   "cell_type": "code",
   "execution_count": null,
   "metadata": {},
   "outputs": [],
   "source": [
    "# Блок 3: Константы размеров данных и параметров модели\n",
    "IMG_SHAPE = (28, 28, 1)      # Размер входного изображения: высота, ширина, каналы\n",
    "NUM_CLASSES = 10             # Количество классов в задаче классификации"
   ]
  },
  {
   "cell_type": "markdown",
   "metadata": {},
   "source": [
    "### Блок 3: Константы размеров данных и параметров модели\n",
    "- `IMG_SHAPE`: кортеж, определяющий форму входных изображений\n",
    "  - 28 - высота в пикселях\n",
    "  - 28 - ширина в пикселях\n",
    "  - 1 - количество каналов (1 для градаций серого, 3 было бы для RGB)\n",
    "- `NUM_CLASSES`: количество категорий одежды в наборе Fashion MNIST (10 классов)"
   ]
  },
  {
   "cell_type": "code",
   "execution_count": null,
   "metadata": {},
   "outputs": [],
   "source": [
    "# Блок 4: Константы обучения модели\n",
    "BATCH_SIZE = 64             # Размер пакета для обучения\n",
    "EPOCHS = 15                 # Количество эпох обучения\n",
    "VALIDATION_SPLIT = 0.2      # Доля данных для валидации"
   ]
  },
  {
   "cell_type": "markdown",
   "metadata": {},
   "source": [
    "### Блок 4: Константы обучения модели\n",
    "- `BATCH_SIZE`: количество примеров в одном пакете для обучения (64 изображения за итерацию)\n",
    "- `EPOCHS`: общее количество проходов через весь набор данных (15 полных итераций)\n",
    "- `VALIDATION_SPLIT`: доля обучающих данных, используемых для валидации (20% от общего объема)"
   ]
  },
  {
   "cell_type": "code",
   "execution_count": null,
   "metadata": {},
   "outputs": [],
   "source": [
    "# Блок 5: Константы путей файловой системы\n",
    "BASE_DIR = os.path.dirname(os.path.abspath(__file__))              # Базовая директория скрипта\n",
    "MODEL_PATH = os.path.join(BASE_DIR, 'files', 'model', 'perfect_model.keras')  # Путь для сохранения модели"
   ]
  },
  {
   "cell_type": "markdown",
   "metadata": {},
   "source": [
    "### Блок 5: Константы путей файловой системы\n",
    "- `BASE_DIR`: вычисляет абсолютный путь к директории текущего скрипта\n",
    "  - `os.path.abspath(__file__)`: полный путь к файлу скрипта\n",
    "  - `os.path.dirname()`: извлекает директорию из полного пути\n",
    "- `MODEL_PATH`: полный путь для сохранения обученной модели\n",
    "  - Использует `os.path.join()` для кроссплатформенного объединения пути\n",
    "  - Модель будет сохранена в подкаталоге `files/model` с именем `perfect_model.keras`"
   ]
  },
  {
   "cell_type": "code",
   "execution_count": null,
   "metadata": {},
   "outputs": [],
   "source": [
    "# Блок 6: Загрузка набора данных Fashion MNIST\n",
    "(x_train, y_train), (x_test, y_test) = fashion_mnist.load_data()  # Загрузка тренировочных и тестовых данных"
   ]
  },
  {
   "cell_type": "markdown",
   "metadata": {},
   "source": [
    "### Блок 6: Загрузка набора данных Fashion MNIST\n",
    "- `fashion_mnist.load_data()`: загружает встроенный набор данных Fashion MNIST\n",
    "- Возвращает кортеж из двух пар:\n",
    "  - `(x_train, y_train)`: обучающие данные (60,000 изображений и меток)\n",
    "  - `(x_test, y_test)`: тестовые данные (10,000 изображений и меток)\n",
    "- `x_train`, `x_test`: массивы изображений (28x28 пикселей, градации серого)\n",
    "- `y_train`, `y_test`: массивы меток классов (целые числа от 0 до 9)"
   ]
  },
  {
   "cell_type": "code",
   "execution_count": null,
   "metadata": {},
   "outputs": [],
   "source": [
    "# Блок 7: Изменение формы данных для сверточной сети\n",
    "x_train = x_train.reshape((60000, 28, 28, 1))  # Добавление канала для обучающих данных\n",
    "x_test = x_test.reshape((10000, 28, 28, 1))    # Добавление канала для тестовых данных"
   ]
  },
  {
   "cell_type": "markdown",
   "metadata": {},
   "source": [
    "### Блок 7: Изменение формы данных для сверточной сети\n",
    "- Исходная форма данных: (количество_примеров, 28, 28)\n",
    "- Новая форма: (количество_примеров, 28, 28, 1)\n",
    "  - Добавлен канал (1), так как сверточные сети (Conv2D) ожидают 4D-вход\n",
    "  - 60,000 - количество обучающих примеров\n",
    "  - 10,000 - количество тестовых примеров\n",
    "  - 28x28 - размер изображения\n",
    "  - 1 - количество каналов (градации серого)"
   ]
  },
  {
   "cell_type": "code",
   "execution_count": null,
   "metadata": {},
   "outputs": [],
   "source": [
    "# Блок 8: Нормализация данных\n",
    "x_train = x_train / 255.0  # Нормализация обучающих данных\n",
    "x_test = x_test / 255.0    # Нормализация тестовых данных"
   ]
  },
  {
   "cell_type": "markdown",
   "metadata": {},
   "source": [
    "### Блок 8: Нормализация данных\n",
    "- Деление значений пикселей на 255.0 (максимальное значение пикселя)\n",
    "- Преобразует значения из диапазона [0, 255] в [0, 1]\n",
    "- Улучшает сходимость модели и стабильность обучения"
   ]
  },
  {
   "cell_type": "code",
   "execution_count": null,
   "metadata": {},
   "outputs": [],
   "source": [
    "# Блок 9: Переопределение классов\n",
    "mapping = {5: 6, 6: 4, 7: 6, 8: 5, 9: 6}  # Словарь для замены значений классов\n",
    "y_train = np.array([mapping.get(y, y) for y in y_train])  # Применение к обучающим меткам\n",
    "y_test = np.array([mapping.get(y, y) for y in y_test])    # Применение к тестовым меткам"
   ]
  },
  {
   "cell_type": "markdown",
   "metadata": {},
   "source": [
    "### Блок 9: Переопределение классов\n",
    "- `mapping`: словарь, определяющий замену классов:\n",
    "  - 5 → 6\n",
    "  - 6 → 4\n",
    "  - 7 → 6\n",
    "  - 8 → 5\n",
    "  - 9 → 6\n",
    "  - Остальные классы остаются без изменений\n",
    "- Преобразование меток:\n",
    "  - Используется `mapping.get(y, y)`: если ключа нет в словаре, возвращается исходное значение `y`\n",
    "  - Создается новый массив с помощью `np.array` и спискового включения\n",
    "- Применяется к `y_train` и `y_test` для согласованности данных"
   ]
  },
  {
   "cell_type": "code",
   "execution_count": null,
   "metadata": {},
   "outputs": [],
   "source": [
    "# Блок 10: Создание базовой структуры модели\n",
    "model = Sequential([  # Инициализация последовательной модели\n",
    "    Conv2D(64, (3, 3), activation='relu', input_shape=IMG_SHAPE, kernel_regularizer=l2(0.001)),  # Первый сверточный слой\n",
    "    BatchNormalization(),  # Нормализация батчей\n",
    "    Conv2D(128, (3, 3), activation='relu', padding='same', kernel_regularizer=l2(0.001)),  # Второй сверточный слой\n",
    "    BatchNormalization(),  # Нормализация батчей\n",
    "    MaxPooling2D((2, 2)),  # Первый слой субдискретизации\n",
    "    Dropout(0.5),          # Первый слой выброса\n",
    "])"
   ]
  },
  {
   "cell_type": "markdown",
   "metadata": {},
   "source": [
    "### Блок 10: Создание базовой структуры модели\n",
    "- `Sequential`: создает модель, где слои добавляются последовательно\n",
    "- Первый блок свертки:\n",
    "  - `Conv2D(64, (3, 3))`: 64 фильтра размером 3x3\n",
    "  - `activation='relu'`: функция активации ReLU\n",
    "  - `input_shape=IMG_SHAPE`: форма входных данных (28, 28, 1)\n",
    "  - `kernel_regularizer=l2(0.001)`: L2-регуляризация с коэффициентом 0.001\n",
    "  - `BatchNormalization()`: нормализует выходы слоя для ускорения обучения\n",
    "- Второй блок свертки:\n",
    "  - `Conv2D(128, (3, 3))`: 128 фильтров размером 3x3\n",
    "  - `padding='same'`: сохраняет размер выхода равным входу\n",
    "- `MaxPooling2D((2, 2))`: уменьшает размерность в 2 раза (с 28x28 до 14x14)\n",
    "- `Dropout(0.5)`: случайным образом отключает 50% нейронов для предотвращения переобучения"
   ]
  },
  {
   "cell_type": "code",
   "execution_count": null,
   "metadata": {},
   "outputs": [],
   "source": [
    "# Блок 11: Добавление глубоких сверточных слоев\n",
    "model.add(Conv2D(256, (3, 3), activation='relu', kernel_regularizer=l2(0.001)))  # Третий сверточный слой\n",
    "model.add(BatchNormalization())  # Нормализация батчей\n",
    "model.add(MaxPooling2D((2, 2)))  # Второй слой субдискретизации\n",
    "model.add(Dropout(0.5))          # Второй слой выброса"
   ]
  },
  {
   "cell_type": "markdown",
   "metadata": {},
   "source": [
    "### Блок 11: Добавление глубоких сверточных слоев\n",
    "- `Conv2D(256, (3, 3))`: 256 фильтров размером 3x3\n",
    "  - Увеличивает количество признаков для извлечения сложных паттернов\n",
    "  - `kernel_regularizer=l2(0.001)`: L2-регуляризация для контроля весов\n",
    "- `BatchNormalization()`: стабилизирует обучение\n",
    "- `MaxPooling2D((2, 2))`: уменьшает размерность с 14x14 до 7x7\n",
    "- `Dropout(0.5)`: 50% выброс для регуляризации"
   ]
  },
  {
   "cell_type": "code",
   "execution_count": null,
   "metadata": {},
   "outputs": [],
   "source": [
    "# Блок 12: Полносвязные слои и выходной слой\n",
    "model.add(Flatten())  # Преобразование в одномерный вектор\n",
    "model.add(Dense(128, activation='relu', kernel_regularizer=l2(0.001)))  # Полносвязный Cлой с 128 нейронами\n",
    "model.add(BatchNormalization())  # Нормализация батчей\n",
    "model.add(Dropout(0.3))  # Слой выброса с 30%\n",
    "model.add(Dense(NUM_CLASSES, activation='softmax'))  # Выходной слой"
   ]
  },
  {
   "cell_type": "markdown",
   "metadata": {},
   "source": [
    "### Блок 12: Полносвязные слои и выходной слой\n",
    "- `Flatten()`: преобразует 7x7x256 в вектор длиной 12,544\n",
    "- `Dense(128)`: полносвязный слой с 128 нейронами\n",
    "  - `activation='relu'`: функция активации ReLU\n",
    "  - `kernel_regularizer=l2(0.001)`: L2-регуляризация\n",
    "- `BatchNormalization()`: нормализация перед финальным слоем\n",
    "- `Dropout(0.3)`: 30% выброс для финальной регуляризации\n",
    "- `Dense(NUM_CLASSES)`: выходной слой с количеством нейронов, равным числу классов (10)\n",
    "  - `activation='softmax'`: вероятностное распределение по классам"
   ]
  },
  {
   "cell_type": "code",
   "execution_count": null,
   "metadata": {},
   "outputs": [],
   "source": [
    "# Блок 13: Компиляция модели\n",
    "model.compile(\n",
    "    optimizer=tf.keras.optimizers.Adam(learning_rate=0.0001),  # Оптимизатор Adam\n",
    "    loss='sparse_categorical_crossentropy',                    # Функция потерь\n",
    "    metrics=['accuracy']                                       # Метрика оценки\n",
    ")"
   ]
  },
  {
   "cell_type": "markdown",
   "metadata": {},
   "source": [
    "### Блок 13: Компиляция модели\n",
    "- `optimizer='Adam'`: адаптивный оптимизатор с шагом обучения `learning_rate=0.0001`\n",
    "- `loss='sparse_categorical_crossentropy'`: функция потерь для многоклассовой классификации с целочисленными метками\n",
    "- `metrics=['accuracy']`: отслеживание точности во время обучения и оценки"
   ]
  },
  {
   "cell_type": "code",
   "execution_count": null,
   "metadata": {},
   "outputs": [],
   "source": [
    "def plot_training_history(history):\n",
    "    \"\"\"Визуализация истории обучения\"\"\"\n",
    "    plt.figure(figsize=(12, 5))\n",
    "\n",
    "    # График потерь\n",
    "    plt.subplot(1, 2, 1)\n",
    "    plt.plot(history.history['loss'], label='Обучающая выборка')\n",
    "    plt.plot(history.history['val_loss'], label='Валидационная выборка')\n",
    "    plt.title('Функция потерь по эпохам')\n",
    "    plt.xlabel('Эпоха')\n",
    "    plt.ylabel('Потери')\n",
    "    plt.legend()\n",
    "    plt.grid(True)\n",
    "\n",
    "    # График точности\n",
    "    plt.subplot(1, 2, 2)\n",
    "    plt.plot(history.history['accuracy'], label='Обучающая выборка')\n",
    "    plt.plot(history.history['val_accuracy'], label='Валидационная выборка')\n",
    "    plt.title('Точность по эпохам')\n",
    "    plt.xlabel('Эпоха')\n",
    "    plt.ylabel('Точность')\n",
    "    plt.legend()\n",
    "    plt.grid(True)\n",
    "\n",
    "    plt.tight_layout()\n",
    "    plt.show()"
   ]
  },
  {
   "cell_type": "code",
   "execution_count": null,
   "metadata": {},
   "outputs": [],
   "source": [
    "# Блок 14: Загрузка и предобработка данных\n",
    "(x_train, y_train), (x_test, y_test) = load_and_preprocess_data()  # Вызов функции подготовки данных"
   ]
  },
  {
   "cell_type": "markdown",
   "metadata": {},
   "source": [
    "### Блок 14: Загрузка и предобработка данных\n",
    "- `load_and_preprocess_data()`: предполагаемая пользовательская функция\n",
    "  - Загружает данные Fashion MNIST\n",
    "  - Выполняет предобработку (изменение формы, нормализацию, переопределение классов)\n",
    "- Возвращает кортеж:\n",
    "  - `(x_train, y_train)`: обучающие данные и метки\n",
    "  - `(x_test, y_test)`: тестовые данные и метки"
   ]
  },
  {
   "cell_type": "code",
   "execution_count": null,
   "metadata": {},
   "outputs": [],
   "source": [
    "# Блок 15: Проверка и обучение модели\n",
    "if not os.path.exists(MODEL_PATH):  # Проверка существования сохраненной модели\n",
    "    early_stopping = EarlyStopping(\n",
    "        monitor='val_loss',            # Отслеживание потерь на валидации\n",
    "        patience=10,                   # Терпение для остановки\n",
    "        restore_best_weights=True      # Восстановление лучших весов\n",
    "    )\n",
    "    model = create_model()             # Создание новой модели\n",
    "    history = model.fit(               # Обучение модели\n",
    "        x_train, y_train,\n",
    "        batch_size=BATCH_SIZE,         # Размер пакета\n",
    "        epochs=EPOCHS,                 # Количество эпох\n",
    "        shuffle=True,                  # Перемешивание данных\n",
    "        validation_split=VALIDATION_SPLIT,  # Доля валидационных данных\n",
    "        callbacks=[early_stopping]     # Callback для ранней остановки\n",
    "    )\n",
    "    model.save(MODEL_PATH)             # Сохранение модели\n",
    "else:\n",
    "    model = keras.models.load_model(MODEL_PATH)  # Загрузка существующей модели\n",
    "    history = None                     # История отсутствует при загрузке"
   ]
  },
  {
   "cell_type": "markdown",
   "metadata": {},
   "source": [
    "### Блок 15: Проверка и обучение модели\n",
    "- `os.path.exists(MODEL_PATH)`: проверяет наличие сохраненной модели по пути `MODEL_PATH`\n",
    "- Если модели нет:\n",
    "  - `EarlyStopping`: callback для остановки обучения при отсутствии прогресса\n",
    "    - `monitor='val_loss'`: отслеживает потери на валидационной выборке\n",
    "    - `patience=10`: ждет 10 эпох без улучшения\n",
    "    - `restore_best_weights=True`: восстанавливает веса лучшей модели\n",
    "  - `create_model()`: предполагаемая функция создания архитектуры модели\n",
    "  - `model.fit()`: обучение модели\n",
    "    - `batch_size=BATCH_SIZE`: использует заданный размер пакета (64)\n",
    "    - `epochs=EPOCHS`: максимальное количество эпох (15)\n",
    "    - `shuffle=True`: перемешивает данные перед каждой эпохой\n",
    "    - `validation_split=VALIDATION_SPLIT`: использует 20% данных для валидации\n",
    "    - `callbacks=[early_stopping]`: применяет раннюю остановку\n",
    "  - `model.save(MODEL_PATH)`: сохраняет модель в файл\n",
    "- Если модель существует:\n",
    "  - `keras.models.load_model(MODEL_PATH)`: загружает модель из файла\n",
    "  - `history = None`: история обучения недоступна"
   ]
  },
  {
   "cell_type": "code",
   "execution_count": null,
   "metadata": {},
   "outputs": [],
   "source": [
    "# Блок 16: Оценка модели\n",
    "test_loss, test_acc = model.evaluate(x_test, y_test)  # Оценка на тестовых данных\n",
    "print(f'Точность на тестовых данных: {test_acc:.4f}')  # Вывод точности"
   ]
  },
  {
   "cell_type": "markdown",
   "metadata": {},
   "source": [
    "### Блок 16: Оценка модели\n",
    "- `model.evaluate()`: вычисляет потери и метрики на тестовых данных\n",
    "  - `x_test`, `y_test`: тестовые изображения и метки\n",
    "  - Возвращает `test_loss` (потери) и `test_acc` (точность)\n",
    "- Выводит точность с 4 знаками после запятой для читаемости"
   ]
  },
  {
   "cell_type": "code",
   "execution_count": null,
   "metadata": {},
   "outputs": [],
   "source": [
    "# Блок 17: Визуализация результатов обучения\n",
    "if history:  # Проверка наличия истории обучения\n",
    "    plot_training_history(history)  # Вызов функции визуализации\n",
    "else:\n",
    "    print('Модель загружена из файла')  # Сообщение при загрузке модели"
   ]
  },
  {
   "cell_type": "markdown",
   "metadata": {},
   "source": [
    "### Блок 17: Визуализация результатов обучения\n",
    "- `if history`: проверяет, была ли модель обучена в этой сессии\n",
    "  - `plot_training_history(history)`: предполагаемая функция\n",
    "    - Визуализирует метрики обучения (например, точность и потери)\n",
    "    - Использует объект `history` с данными по эпохам\n",
    "- Если `history is None`:\n",
    "  - Выводит сообщение, что модель была загружена, а не обучена"
   ]
  }
 ],
 "metadata": {
  "kernelspec": {
   "display_name": "venv",
   "language": "python",
   "name": "python3"
  },
  "language_info": {
   "codemirror_mode": {
    "name": "ipython",
    "version": 3
   },
   "file_extension": ".py",
   "mimetype": "text/x-python",
   "name": "python",
   "nbconvert_exporter": "python",
   "pygments_lexer": "ipython3",
   "version": "3.12.8"
  }
 },
 "nbformat": 4,
 "nbformat_minor": 2
}
