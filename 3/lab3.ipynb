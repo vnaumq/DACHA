{
  "nbformat": 4,
  "nbformat_minor": 0,
  "metadata": {
    "colab": {
      "provenance": []
    },
    "kernelspec": {
      "name": "python3",
      "display_name": "Python 3"
    },
    "language_info": {
      "name": "python"
    }
  },
  "cells": [
    {
      "cell_type": "code",
      "execution_count": 4,
      "metadata": {
        "colab": {
          "base_uri": "https://localhost:8080/"
        },
        "id": "DiGT8zP2dXKK",
        "outputId": "75ee5d6d-1cba-481d-ce2e-4db7c6203ab3"
      },
      "outputs": [
        {
          "output_type": "stream",
          "name": "stdout",
          "text": [
            "Initial file size: 14939.38 KB\n",
            "Resampled file size: 3734.88 KB\n",
            "Compressed file size: 678.21 KB\n",
            "Restored file size: 3734.88 KB\n"
          ]
        }
      ],
      "source": [
        "# Изменение частоты дискретизации:\n",
        "import librosa\n",
        "# Загрузка аудиофайла с сохранением исходной частоты дискретизации, где y\n",
        "y, sr = librosa.load('audio.wav', sr=None)\n",
        "# Снижение частоты дискретизации до 22050 Гц\n",
        "y_resampled = librosa.resample(y, orig_sr=sr, target_sr=22050)\n",
        "# Сохранение ресемплированного аудиофайла с новой частотой дискретизации\n",
        "import soundfile as sf\n",
        "sf.write('resampled_audio.wav', y_resampled, sr)\n",
        "\n",
        "# Обработка и фильтрация:\n",
        "y, sr = librosa.load('audio.wav', sr=None)\n",
        "# Применение фильтрации\n",
        "y_filtered = librosa.effects.preemphasis(y)\n",
        "sf.write('filtered_audio.wav', y_filtered, sr)\n",
        "\n",
        "# Прореживание данных (Downsampling)\n",
        "import numpy as np\n",
        "y, sr = librosa.load('audio.wav', sr=None)\n",
        "# Прореживание данных, сохраняя каждую вторую выборку\n",
        "y_downsampled = y[::2]\n",
        "sf.write('downsampled_audio.wav', y_downsampled, sr)\n",
        "\n",
        "# Сжатие динамического диапазона (Dynamic Range Compression)\n",
        "y, sr = librosa.load('audio.wav', sr=None)\n",
        "# Применение эффекта перкуссии для сжатия динамического диапазона\n",
        "y_compressed = librosa.effects.percussive(y)\n",
        "sf.write('compressed_dynamic_range.wav', y_compressed, sr)\n",
        "\n",
        "# Обработка тишины (Silence Removal)\n",
        "y, sr = librosa.load('audio.wav', sr=None)\n",
        "# Найти все непустые интервалы\n",
        "non_silent_intervals = librosa.effects.split(y, top_db=20)\n",
        "y_non_silent = np.concatenate([y[start:end] for start, end in non_silent_intervals])\n",
        "sf.write('non_silent_audio.wav', y_non_silent, sr)\n",
        "\n",
        "# Преобразование в моно (Convert to Mono)\n",
        "y, sr = librosa.load('audio.wav', sr=None, mono=False)\n",
        "# Преобразование в моно\n",
        "y_mono = librosa.to_mono(y)\n",
        "sf.write('mono_audio.wav', y_mono, sr)\n",
        "\n",
        "# Конвертация аудиоформатов в Pydub\n",
        "from pydub import AudioSegment\n",
        "sound = AudioSegment.from_file('audio.wav')\n",
        "# Конвертация в MP3 с битрейтом 64 кбит/с\n",
        "sound.export('compressed_audio.mp3', format='mp3', bitrate='64k')\n",
        "import librosa\n",
        "import soundfile as sf\n",
        "import os\n",
        "\n",
        "# Загрузка начального аудиофайла\n",
        "y, sr = librosa.load('audio.wav', sr=None)\n",
        "\n",
        "# Ресемплирование аудиосигнала до 22050 Гц\n",
        "y_resampled = librosa.resample(y, orig_sr=sr, target_sr=22050)\n",
        "\n",
        "# Сохранение ресемплированного аудиофайла\n",
        "sf.write('resampled_audio.wav', y_resampled, 22050)\n",
        "\n",
        "# Сжатие ресемплированного аудиофайла с помощью pydub\n",
        "from pydub import AudioSegment\n",
        "compressed_audio = AudioSegment.from_file('resampled_audio.wav')\n",
        "compressed_audio.export('compressed_audio.mp3', format='mp3', bitrate='64k')\n",
        "\n",
        "# Восстановление аудиофайла\n",
        "restored_audio = AudioSegment.from_file('compressed_audio.mp3')\n",
        "restored_audio.export('restored_audio.wav', format='wav')\n",
        "\n",
        "# Получение размеров файлов\n",
        "initial_size = os.path.getsize('audio.wav')\n",
        "resampled_size = os.path.getsize('resampled_audio.wav')\n",
        "compressed_size = os.path.getsize('compressed_audio.mp3')\n",
        "restored_size = os.path.getsize('restored_audio.wav')\n",
        "\n",
        "print(f'Initial file size: {initial_size / 1024:.2f} KB')\n",
        "print(f'Resampled file size: {resampled_size / 1024:.2f} KB')\n",
        "print(f'Compressed file size: {compressed_size / 1024:.2f} KB')\n",
        "print(f'Restored file size: {restored_size / 1024:.2f} KB')\n"
      ]
    },
    {
      "cell_type": "code",
      "source": [
        "!pip install pydub"
      ],
      "metadata": {
        "colab": {
          "base_uri": "https://localhost:8080/"
        },
        "id": "GgDpfZhDzsCA",
        "outputId": "e26210e1-d3d2-4b87-f0f6-6b61289fe02e"
      },
      "execution_count": 3,
      "outputs": [
        {
          "output_type": "stream",
          "name": "stdout",
          "text": [
            "Collecting pydub\n",
            "  Downloading pydub-0.25.1-py2.py3-none-any.whl.metadata (1.4 kB)\n",
            "Downloading pydub-0.25.1-py2.py3-none-any.whl (32 kB)\n",
            "Installing collected packages: pydub\n",
            "Successfully installed pydub-0.25.1\n"
          ]
        }
      ]
    }
  ]
}